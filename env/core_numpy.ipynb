{
 "cells": [
  {
   "cell_type": "code",
   "execution_count": 14,
   "metadata": {
    "lines_to_end_of_cell_marker": 2,
    "lines_to_next_cell": 0
   },
   "outputs": [
    {
     "name": "stdout",
     "output_type": "stream",
     "text": [
      "[1 2 3 4 5]\n",
      "[[0 0]\n",
      " [0 0]\n",
      " [0 0]\n",
      " [0 0]\n",
      " [0 0]]\n",
      "[0.68422438 0.54723716 0.04264266 0.83505703 0.17490211]\n"
     ]
    }
   ],
   "source": [
    "import numpy as np\n",
    "my_array = np.array([1,2,3,4,5])\n",
    "print(my_array)\n",
    "#shape 指定长度，可以是二维， dtype 默认为float64,order存储顺序C按行存，F按列存 默认C\n",
    "zero_array = np.zeros((5,2),dtype=int, order='F')\n",
    "print(zero_array)\n",
    "\n",
    "np.ones(3)\n",
    "\n",
    "#生成随机数0~1之间\n",
    "random_arr = np.random.random(5)\n",
    "print(random_arr)"
   ]
  },
  {
   "cell_type": "code",
   "execution_count": 15,
   "metadata": {
    "lines_to_next_cell": 2
   },
   "outputs": [
    {
     "name": "stdout",
     "output_type": "stream",
     "text": [
      "[5 6]\n"
     ]
    }
   ],
   "source": [
    "my_array = np.array([[1,5],[4,6]])\n",
    "#数组截取\n",
    "col2 = my_array[:,1]\n",
    "print(col2)"
   ]
  },
  {
   "cell_type": "code",
   "execution_count": 23,
   "metadata": {},
   "outputs": [
    {
     "name": "stdout",
     "output_type": "stream",
     "text": [
      "[[4.2 4. ]\n",
      " [3.2 7. ]]\n",
      "[[-2.2  0. ]\n",
      " [ 1.   1. ]]\n",
      "product = \n",
      " [[ 3.2   4.  ]\n",
      " [ 2.31 12.  ]]\n",
      "matrix_product= [[ 5.4   8.  ]\n",
      " [11.12 16.2 ]]\n"
     ]
    }
   ],
   "source": [
    "#数组运算\n",
    "a = np.array([[1,2],[2.1,4]])\n",
    "b = np.array([[3.2,2],[1.1,3]])\n",
    "sum = a + b\n",
    "print(sum)\n",
    "diff = a-b\n",
    "print(diff)\n",
    "#不是矩阵相乘，而是将所有元素相乘\n",
    "product= a*b\n",
    "print(\"product = \\n\",product)\n",
    "matrix_product = a.dot(b)\n",
    "print(\"matrix_product=\",matrix_product)"
   ]
  },
  {
   "cell_type": "code",
   "execution_count": 24,
   "metadata": {},
   "outputs": [
    {
     "name": "stdout",
     "output_type": "stream",
     "text": [
      "25\n"
     ]
    }
   ],
   "source": [
    "#定义多维数组\n",
    "a = np.array([[11, 12, 13, 14, 15],\n",
    "              [16, 17, 18, 19, 20],\n",
    "              [21, 22, 23, 24, 25],\n",
    "              [26, 27, 28 ,29, 30],\n",
    "              [31, 32, 33, 34, 35]])\n",
    "# >>>25\n",
    "print(a[2,4]) "
   ]
  },
  {
   "cell_type": "code",
   "execution_count": null,
   "metadata": {},
   "outputs": [],
   "source": []
  }
 ],
 "metadata": {
  "jupytext": {
   "formats": "ipynb,py:light"
  },
  "kernelspec": {
   "display_name": "Python 3",
   "language": "python",
   "name": "python3"
  },
  "language_info": {
   "codemirror_mode": {
    "name": "ipython",
    "version": 3
   },
   "file_extension": ".py",
   "mimetype": "text/x-python",
   "name": "python",
   "nbconvert_exporter": "python",
   "pygments_lexer": "ipython3",
   "version": "3.7.3"
  }
 },
 "nbformat": 4,
 "nbformat_minor": 2
}
