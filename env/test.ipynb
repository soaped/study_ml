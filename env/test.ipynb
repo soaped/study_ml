{
  "cells": [
    {
      "cell_type": "code",
      "execution_count": 1,
      "metadata": {
        "collapsed": true,
        "pycharm": {
          "is_executing": false
        }
      },
      "outputs": [
        {
          "name": "stdout",
          "text": [
            "Thu Apr  4 16:49:31 2019\nhello Jupyter!\n"
          ],
          "output_type": "stream"
        }
      ],
      "source": "import time\nprint(time.ctime())\nprint(\u0027hello Jupyter!\u0027) \n"
    },
    {
      "cell_type": "code",
      "execution_count": null,
      "outputs": [],
      "source": "\n",
      "metadata": {
        "pycharm": {
          "metadata": false,
          "name": "#%%\n"
        }
      }
    }
  ],
  "metadata": {
    "language_info": {
      "codemirror_mode": {
        "name": "ipython",
        "version": 2
      },
      "file_extension": ".py",
      "mimetype": "text/x-python",
      "name": "python",
      "nbconvert_exporter": "python",
      "pygments_lexer": "ipython2",
      "version": "2.7.6"
    },
    "kernelspec": {
      "name": "pycharm-f84e282c",
      "language": "python",
      "display_name": "PyCharm (study_ml)"
    }
  },
  "nbformat": 4,
  "nbformat_minor": 0
}